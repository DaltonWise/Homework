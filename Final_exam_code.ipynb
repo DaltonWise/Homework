{
  "nbformat": 4,
  "nbformat_minor": 0,
  "metadata": {
    "colab": {
      "provenance": [],
      "authorship_tag": "ABX9TyNPy9qdioAgoB5ocxz8JIYH",
      "include_colab_link": true
    },
    "kernelspec": {
      "name": "python3",
      "display_name": "Python 3"
    },
    "language_info": {
      "name": "python"
    }
  },
  "cells": [
    {
      "cell_type": "markdown",
      "metadata": {
        "id": "view-in-github",
        "colab_type": "text"
      },
      "source": [
        "<a href=\"https://colab.research.google.com/github/DaltonWise/Homework/blob/main/Final_exam_code.ipynb\" target=\"_parent\"><img src=\"https://colab.research.google.com/assets/colab-badge.svg\" alt=\"Open In Colab\"/></a>"
      ]
    },
    {
      "cell_type": "code",
      "source": [
        "import pandas as pd"
      ],
      "metadata": {
        "id": "-5_0rm5aIUab"
      },
      "execution_count": 4,
      "outputs": []
    },
    {
      "cell_type": "markdown",
      "source": [
        "For each of the data sets I downloaded them from R studio from the data generating code we were given. After doing the modeling for the 1000 observation data set I copied my code and used it on the 10,000 observation data set and so on. I did not change or add many comments after the first set of code due to this."
      ],
      "metadata": {
        "id": "joQO3ATEC_sm"
      }
    },
    {
      "cell_type": "code",
      "execution_count": 94,
      "metadata": {
        "id": "9wni17YrHg1N"
      },
      "outputs": [],
      "source": [
        "#Downloading each of the data sets\n",
        "\n",
        "dfdata1000 = pd.read_csv(\"//content//dfdata1000.csv\")\n",
        "\n",
        "dfdata10000 = pd.read_csv(\"//content//dfdata10000.csv\")\n",
        "\n",
        "dfdata100000 = pd.read_csv(\"//content//dfdata100000.csv\")\n",
        "\n",
        "#/content/dfdata1000.csv"
      ]
    },
    {
      "cell_type": "markdown",
      "source": [
        "I dont think anything needs to be done to the data. It is generated and seems to not have any missing values. I checked the data types and they done seem to need to be changed."
      ],
      "metadata": {
        "id": "lrlTIGPaJ3ZZ"
      }
    },
    {
      "cell_type": "code",
      "source": [
        "dfdata1000.describe()"
      ],
      "metadata": {
        "colab": {
          "base_uri": "https://localhost:8080/",
          "height": 300
        },
        "id": "2-Z20F4KIzFT",
        "outputId": "dc44a62a-b251-42a3-d388-61d3b0023884"
      },
      "execution_count": 95,
      "outputs": [
        {
          "output_type": "execute_result",
          "data": {
            "text/plain": [
              "               X1          X2          X3            X4             Y\n",
              "count  100.000000  100.000000  100.000000    100.000000  1.000000e+02\n",
              "mean   118.266723  113.731754    8.120000  14452.900638  1.255444e+07\n",
              "std     24.342526   28.549243    1.257543   8810.104499  1.185813e+07\n",
              "min     52.508381   52.697641    5.000000  -1963.572599  8.319586e+05\n",
              "25%    102.849797   91.046641    7.000000   6768.485870  4.624211e+06\n",
              "50%    118.338004  110.206715    8.000000  15275.903940  8.910221e+06\n",
              "75%    133.029199  128.816044    9.000000  22649.036361  1.500317e+07\n",
              "max    179.763237  203.944793   10.000000  29880.740687  7.131952e+07"
            ],
            "text/html": [
              "\n",
              "  <div id=\"df-0139b9a2-81ee-4715-855e-788816c979ae\" class=\"colab-df-container\">\n",
              "    <div>\n",
              "<style scoped>\n",
              "    .dataframe tbody tr th:only-of-type {\n",
              "        vertical-align: middle;\n",
              "    }\n",
              "\n",
              "    .dataframe tbody tr th {\n",
              "        vertical-align: top;\n",
              "    }\n",
              "\n",
              "    .dataframe thead th {\n",
              "        text-align: right;\n",
              "    }\n",
              "</style>\n",
              "<table border=\"1\" class=\"dataframe\">\n",
              "  <thead>\n",
              "    <tr style=\"text-align: right;\">\n",
              "      <th></th>\n",
              "      <th>X1</th>\n",
              "      <th>X2</th>\n",
              "      <th>X3</th>\n",
              "      <th>X4</th>\n",
              "      <th>Y</th>\n",
              "    </tr>\n",
              "  </thead>\n",
              "  <tbody>\n",
              "    <tr>\n",
              "      <th>count</th>\n",
              "      <td>100.000000</td>\n",
              "      <td>100.000000</td>\n",
              "      <td>100.000000</td>\n",
              "      <td>100.000000</td>\n",
              "      <td>1.000000e+02</td>\n",
              "    </tr>\n",
              "    <tr>\n",
              "      <th>mean</th>\n",
              "      <td>118.266723</td>\n",
              "      <td>113.731754</td>\n",
              "      <td>8.120000</td>\n",
              "      <td>14452.900638</td>\n",
              "      <td>1.255444e+07</td>\n",
              "    </tr>\n",
              "    <tr>\n",
              "      <th>std</th>\n",
              "      <td>24.342526</td>\n",
              "      <td>28.549243</td>\n",
              "      <td>1.257543</td>\n",
              "      <td>8810.104499</td>\n",
              "      <td>1.185813e+07</td>\n",
              "    </tr>\n",
              "    <tr>\n",
              "      <th>min</th>\n",
              "      <td>52.508381</td>\n",
              "      <td>52.697641</td>\n",
              "      <td>5.000000</td>\n",
              "      <td>-1963.572599</td>\n",
              "      <td>8.319586e+05</td>\n",
              "    </tr>\n",
              "    <tr>\n",
              "      <th>25%</th>\n",
              "      <td>102.849797</td>\n",
              "      <td>91.046641</td>\n",
              "      <td>7.000000</td>\n",
              "      <td>6768.485870</td>\n",
              "      <td>4.624211e+06</td>\n",
              "    </tr>\n",
              "    <tr>\n",
              "      <th>50%</th>\n",
              "      <td>118.338004</td>\n",
              "      <td>110.206715</td>\n",
              "      <td>8.000000</td>\n",
              "      <td>15275.903940</td>\n",
              "      <td>8.910221e+06</td>\n",
              "    </tr>\n",
              "    <tr>\n",
              "      <th>75%</th>\n",
              "      <td>133.029199</td>\n",
              "      <td>128.816044</td>\n",
              "      <td>9.000000</td>\n",
              "      <td>22649.036361</td>\n",
              "      <td>1.500317e+07</td>\n",
              "    </tr>\n",
              "    <tr>\n",
              "      <th>max</th>\n",
              "      <td>179.763237</td>\n",
              "      <td>203.944793</td>\n",
              "      <td>10.000000</td>\n",
              "      <td>29880.740687</td>\n",
              "      <td>7.131952e+07</td>\n",
              "    </tr>\n",
              "  </tbody>\n",
              "</table>\n",
              "</div>\n",
              "    <div class=\"colab-df-buttons\">\n",
              "\n",
              "  <div class=\"colab-df-container\">\n",
              "    <button class=\"colab-df-convert\" onclick=\"convertToInteractive('df-0139b9a2-81ee-4715-855e-788816c979ae')\"\n",
              "            title=\"Convert this dataframe to an interactive table.\"\n",
              "            style=\"display:none;\">\n",
              "\n",
              "  <svg xmlns=\"http://www.w3.org/2000/svg\" height=\"24px\" viewBox=\"0 -960 960 960\">\n",
              "    <path d=\"M120-120v-720h720v720H120Zm60-500h600v-160H180v160Zm220 220h160v-160H400v160Zm0 220h160v-160H400v160ZM180-400h160v-160H180v160Zm440 0h160v-160H620v160ZM180-180h160v-160H180v160Zm440 0h160v-160H620v160Z\"/>\n",
              "  </svg>\n",
              "    </button>\n",
              "\n",
              "  <style>\n",
              "    .colab-df-container {\n",
              "      display:flex;\n",
              "      gap: 12px;\n",
              "    }\n",
              "\n",
              "    .colab-df-convert {\n",
              "      background-color: #E8F0FE;\n",
              "      border: none;\n",
              "      border-radius: 50%;\n",
              "      cursor: pointer;\n",
              "      display: none;\n",
              "      fill: #1967D2;\n",
              "      height: 32px;\n",
              "      padding: 0 0 0 0;\n",
              "      width: 32px;\n",
              "    }\n",
              "\n",
              "    .colab-df-convert:hover {\n",
              "      background-color: #E2EBFA;\n",
              "      box-shadow: 0px 1px 2px rgba(60, 64, 67, 0.3), 0px 1px 3px 1px rgba(60, 64, 67, 0.15);\n",
              "      fill: #174EA6;\n",
              "    }\n",
              "\n",
              "    .colab-df-buttons div {\n",
              "      margin-bottom: 4px;\n",
              "    }\n",
              "\n",
              "    [theme=dark] .colab-df-convert {\n",
              "      background-color: #3B4455;\n",
              "      fill: #D2E3FC;\n",
              "    }\n",
              "\n",
              "    [theme=dark] .colab-df-convert:hover {\n",
              "      background-color: #434B5C;\n",
              "      box-shadow: 0px 1px 3px 1px rgba(0, 0, 0, 0.15);\n",
              "      filter: drop-shadow(0px 1px 2px rgba(0, 0, 0, 0.3));\n",
              "      fill: #FFFFFF;\n",
              "    }\n",
              "  </style>\n",
              "\n",
              "    <script>\n",
              "      const buttonEl =\n",
              "        document.querySelector('#df-0139b9a2-81ee-4715-855e-788816c979ae button.colab-df-convert');\n",
              "      buttonEl.style.display =\n",
              "        google.colab.kernel.accessAllowed ? 'block' : 'none';\n",
              "\n",
              "      async function convertToInteractive(key) {\n",
              "        const element = document.querySelector('#df-0139b9a2-81ee-4715-855e-788816c979ae');\n",
              "        const dataTable =\n",
              "          await google.colab.kernel.invokeFunction('convertToInteractive',\n",
              "                                                    [key], {});\n",
              "        if (!dataTable) return;\n",
              "\n",
              "        const docLinkHtml = 'Like what you see? Visit the ' +\n",
              "          '<a target=\"_blank\" href=https://colab.research.google.com/notebooks/data_table.ipynb>data table notebook</a>'\n",
              "          + ' to learn more about interactive tables.';\n",
              "        element.innerHTML = '';\n",
              "        dataTable['output_type'] = 'display_data';\n",
              "        await google.colab.output.renderOutput(dataTable, element);\n",
              "        const docLink = document.createElement('div');\n",
              "        docLink.innerHTML = docLinkHtml;\n",
              "        element.appendChild(docLink);\n",
              "      }\n",
              "    </script>\n",
              "  </div>\n",
              "\n",
              "\n",
              "    <div id=\"df-f0d34bb7-0071-46ea-b246-c8ab949026ba\">\n",
              "      <button class=\"colab-df-quickchart\" onclick=\"quickchart('df-f0d34bb7-0071-46ea-b246-c8ab949026ba')\"\n",
              "                title=\"Suggest charts\"\n",
              "                style=\"display:none;\">\n",
              "\n",
              "<svg xmlns=\"http://www.w3.org/2000/svg\" height=\"24px\"viewBox=\"0 0 24 24\"\n",
              "     width=\"24px\">\n",
              "    <g>\n",
              "        <path d=\"M19 3H5c-1.1 0-2 .9-2 2v14c0 1.1.9 2 2 2h14c1.1 0 2-.9 2-2V5c0-1.1-.9-2-2-2zM9 17H7v-7h2v7zm4 0h-2V7h2v10zm4 0h-2v-4h2v4z\"/>\n",
              "    </g>\n",
              "</svg>\n",
              "      </button>\n",
              "\n",
              "<style>\n",
              "  .colab-df-quickchart {\n",
              "      --bg-color: #E8F0FE;\n",
              "      --fill-color: #1967D2;\n",
              "      --hover-bg-color: #E2EBFA;\n",
              "      --hover-fill-color: #174EA6;\n",
              "      --disabled-fill-color: #AAA;\n",
              "      --disabled-bg-color: #DDD;\n",
              "  }\n",
              "\n",
              "  [theme=dark] .colab-df-quickchart {\n",
              "      --bg-color: #3B4455;\n",
              "      --fill-color: #D2E3FC;\n",
              "      --hover-bg-color: #434B5C;\n",
              "      --hover-fill-color: #FFFFFF;\n",
              "      --disabled-bg-color: #3B4455;\n",
              "      --disabled-fill-color: #666;\n",
              "  }\n",
              "\n",
              "  .colab-df-quickchart {\n",
              "    background-color: var(--bg-color);\n",
              "    border: none;\n",
              "    border-radius: 50%;\n",
              "    cursor: pointer;\n",
              "    display: none;\n",
              "    fill: var(--fill-color);\n",
              "    height: 32px;\n",
              "    padding: 0;\n",
              "    width: 32px;\n",
              "  }\n",
              "\n",
              "  .colab-df-quickchart:hover {\n",
              "    background-color: var(--hover-bg-color);\n",
              "    box-shadow: 0 1px 2px rgba(60, 64, 67, 0.3), 0 1px 3px 1px rgba(60, 64, 67, 0.15);\n",
              "    fill: var(--button-hover-fill-color);\n",
              "  }\n",
              "\n",
              "  .colab-df-quickchart-complete:disabled,\n",
              "  .colab-df-quickchart-complete:disabled:hover {\n",
              "    background-color: var(--disabled-bg-color);\n",
              "    fill: var(--disabled-fill-color);\n",
              "    box-shadow: none;\n",
              "  }\n",
              "\n",
              "  .colab-df-spinner {\n",
              "    border: 2px solid var(--fill-color);\n",
              "    border-color: transparent;\n",
              "    border-bottom-color: var(--fill-color);\n",
              "    animation:\n",
              "      spin 1s steps(1) infinite;\n",
              "  }\n",
              "\n",
              "  @keyframes spin {\n",
              "    0% {\n",
              "      border-color: transparent;\n",
              "      border-bottom-color: var(--fill-color);\n",
              "      border-left-color: var(--fill-color);\n",
              "    }\n",
              "    20% {\n",
              "      border-color: transparent;\n",
              "      border-left-color: var(--fill-color);\n",
              "      border-top-color: var(--fill-color);\n",
              "    }\n",
              "    30% {\n",
              "      border-color: transparent;\n",
              "      border-left-color: var(--fill-color);\n",
              "      border-top-color: var(--fill-color);\n",
              "      border-right-color: var(--fill-color);\n",
              "    }\n",
              "    40% {\n",
              "      border-color: transparent;\n",
              "      border-right-color: var(--fill-color);\n",
              "      border-top-color: var(--fill-color);\n",
              "    }\n",
              "    60% {\n",
              "      border-color: transparent;\n",
              "      border-right-color: var(--fill-color);\n",
              "    }\n",
              "    80% {\n",
              "      border-color: transparent;\n",
              "      border-right-color: var(--fill-color);\n",
              "      border-bottom-color: var(--fill-color);\n",
              "    }\n",
              "    90% {\n",
              "      border-color: transparent;\n",
              "      border-bottom-color: var(--fill-color);\n",
              "    }\n",
              "  }\n",
              "</style>\n",
              "\n",
              "      <script>\n",
              "        async function quickchart(key) {\n",
              "          const quickchartButtonEl =\n",
              "            document.querySelector('#' + key + ' button');\n",
              "          quickchartButtonEl.disabled = true;  // To prevent multiple clicks.\n",
              "          quickchartButtonEl.classList.add('colab-df-spinner');\n",
              "          try {\n",
              "            const charts = await google.colab.kernel.invokeFunction(\n",
              "                'suggestCharts', [key], {});\n",
              "          } catch (error) {\n",
              "            console.error('Error during call to suggestCharts:', error);\n",
              "          }\n",
              "          quickchartButtonEl.classList.remove('colab-df-spinner');\n",
              "          quickchartButtonEl.classList.add('colab-df-quickchart-complete');\n",
              "        }\n",
              "        (() => {\n",
              "          let quickchartButtonEl =\n",
              "            document.querySelector('#df-f0d34bb7-0071-46ea-b246-c8ab949026ba button');\n",
              "          quickchartButtonEl.style.display =\n",
              "            google.colab.kernel.accessAllowed ? 'block' : 'none';\n",
              "        })();\n",
              "      </script>\n",
              "    </div>\n",
              "\n",
              "    </div>\n",
              "  </div>\n"
            ],
            "application/vnd.google.colaboratory.intrinsic+json": {
              "type": "dataframe",
              "summary": "{\n  \"name\": \"dfdata1000\",\n  \"rows\": 8,\n  \"fields\": [\n    {\n      \"column\": \"X1\",\n      \"properties\": {\n        \"dtype\": \"number\",\n        \"std\": 47.816390404582855,\n        \"min\": 24.342526243438595,\n        \"max\": 179.763236713858,\n        \"num_unique_values\": 8,\n        \"samples\": [\n          118.26672289548452,\n          118.3380042942535,\n          100.0\n        ],\n        \"semantic_type\": \"\",\n        \"description\": \"\"\n      }\n    },\n    {\n      \"column\": \"X2\",\n      \"properties\": {\n        \"dtype\": \"number\",\n        \"std\": 52.43422539346684,\n        \"min\": 28.549243092443216,\n        \"max\": 203.944793249495,\n        \"num_unique_values\": 8,\n        \"samples\": [\n          113.73175439471392,\n          110.20671467062749,\n          100.0\n        ],\n        \"semantic_type\": \"\",\n        \"description\": \"\"\n      }\n    },\n    {\n      \"column\": \"X3\",\n      \"properties\": {\n        \"dtype\": \"number\",\n        \"std\": 33.024944921699834,\n        \"min\": 1.257542898438913,\n        \"max\": 100.0,\n        \"num_unique_values\": 8,\n        \"samples\": [\n          8.12,\n          8.0,\n          100.0\n        ],\n        \"semantic_type\": \"\",\n        \"description\": \"\"\n      }\n    },\n    {\n      \"column\": \"X4\",\n      \"properties\": {\n        \"dtype\": \"number\",\n        \"std\": 10849.664755223133,\n        \"min\": -1963.57259899378,\n        \"max\": 29880.7406872511,\n        \"num_unique_values\": 8,\n        \"samples\": [\n          14452.900637909768,\n          15275.9039402008,\n          100.0\n        ],\n        \"semantic_type\": \"\",\n        \"description\": \"\"\n      }\n    },\n    {\n      \"column\": \"Y\",\n      \"properties\": {\n        \"dtype\": \"number\",\n        \"std\": 23160805.058748364,\n        \"min\": 100.0,\n        \"max\": 71319523.7811191,\n        \"num_unique_values\": 8,\n        \"samples\": [\n          12554438.952184297,\n          8910220.95549542,\n          100.0\n        ],\n        \"semantic_type\": \"\",\n        \"description\": \"\"\n      }\n    }\n  ]\n}"
            }
          },
          "metadata": {},
          "execution_count": 95
        }
      ]
    },
    {
      "cell_type": "code",
      "source": [
        "type(dfdata1000)\n",
        "\n",
        "dfdata1000.dtypes"
      ],
      "metadata": {
        "colab": {
          "base_uri": "https://localhost:8080/",
          "height": 241
        },
        "id": "LTNHlu7aJfsg",
        "outputId": "dd09ad5d-590f-4eae-8c20-dde63148a5c2"
      },
      "execution_count": 96,
      "outputs": [
        {
          "output_type": "execute_result",
          "data": {
            "text/plain": [
              "X1    float64\n",
              "X2    float64\n",
              "X3      int64\n",
              "X4    float64\n",
              "Y     float64\n",
              "dtype: object"
            ],
            "text/html": [
              "<div>\n",
              "<style scoped>\n",
              "    .dataframe tbody tr th:only-of-type {\n",
              "        vertical-align: middle;\n",
              "    }\n",
              "\n",
              "    .dataframe tbody tr th {\n",
              "        vertical-align: top;\n",
              "    }\n",
              "\n",
              "    .dataframe thead th {\n",
              "        text-align: right;\n",
              "    }\n",
              "</style>\n",
              "<table border=\"1\" class=\"dataframe\">\n",
              "  <thead>\n",
              "    <tr style=\"text-align: right;\">\n",
              "      <th></th>\n",
              "      <th>0</th>\n",
              "    </tr>\n",
              "  </thead>\n",
              "  <tbody>\n",
              "    <tr>\n",
              "      <th>X1</th>\n",
              "      <td>float64</td>\n",
              "    </tr>\n",
              "    <tr>\n",
              "      <th>X2</th>\n",
              "      <td>float64</td>\n",
              "    </tr>\n",
              "    <tr>\n",
              "      <th>X3</th>\n",
              "      <td>int64</td>\n",
              "    </tr>\n",
              "    <tr>\n",
              "      <th>X4</th>\n",
              "      <td>float64</td>\n",
              "    </tr>\n",
              "    <tr>\n",
              "      <th>Y</th>\n",
              "      <td>float64</td>\n",
              "    </tr>\n",
              "  </tbody>\n",
              "</table>\n",
              "</div><br><label><b>dtype:</b> object</label>"
            ]
          },
          "metadata": {},
          "execution_count": 96
        }
      ]
    },
    {
      "cell_type": "code",
      "source": [
        "!pip install scikeras"
      ],
      "metadata": {
        "colab": {
          "base_uri": "https://localhost:8080/"
        },
        "id": "PvxuLZUcerTQ",
        "outputId": "17f5319a-6638-4603-f117-7a63bfa37fdc"
      },
      "execution_count": 97,
      "outputs": [
        {
          "output_type": "stream",
          "name": "stdout",
          "text": [
            "Requirement already satisfied: scikeras in /usr/local/lib/python3.11/dist-packages (0.13.0)\n",
            "Requirement already satisfied: keras>=3.2.0 in /usr/local/lib/python3.11/dist-packages (from scikeras) (3.8.0)\n",
            "Requirement already satisfied: scikit-learn>=1.4.2 in /usr/local/lib/python3.11/dist-packages (from scikeras) (1.6.1)\n",
            "Requirement already satisfied: absl-py in /usr/local/lib/python3.11/dist-packages (from keras>=3.2.0->scikeras) (1.4.0)\n",
            "Requirement already satisfied: numpy in /usr/local/lib/python3.11/dist-packages (from keras>=3.2.0->scikeras) (2.0.2)\n",
            "Requirement already satisfied: rich in /usr/local/lib/python3.11/dist-packages (from keras>=3.2.0->scikeras) (13.9.4)\n",
            "Requirement already satisfied: namex in /usr/local/lib/python3.11/dist-packages (from keras>=3.2.0->scikeras) (0.0.9)\n",
            "Requirement already satisfied: h5py in /usr/local/lib/python3.11/dist-packages (from keras>=3.2.0->scikeras) (3.13.0)\n",
            "Requirement already satisfied: optree in /usr/local/lib/python3.11/dist-packages (from keras>=3.2.0->scikeras) (0.15.0)\n",
            "Requirement already satisfied: ml-dtypes in /usr/local/lib/python3.11/dist-packages (from keras>=3.2.0->scikeras) (0.4.1)\n",
            "Requirement already satisfied: packaging in /usr/local/lib/python3.11/dist-packages (from keras>=3.2.0->scikeras) (24.2)\n",
            "Requirement already satisfied: scipy>=1.6.0 in /usr/local/lib/python3.11/dist-packages (from scikit-learn>=1.4.2->scikeras) (1.15.3)\n",
            "Requirement already satisfied: joblib>=1.2.0 in /usr/local/lib/python3.11/dist-packages (from scikit-learn>=1.4.2->scikeras) (1.5.0)\n",
            "Requirement already satisfied: threadpoolctl>=3.1.0 in /usr/local/lib/python3.11/dist-packages (from scikit-learn>=1.4.2->scikeras) (3.6.0)\n",
            "Requirement already satisfied: typing-extensions>=4.5.0 in /usr/local/lib/python3.11/dist-packages (from optree->keras>=3.2.0->scikeras) (4.13.2)\n",
            "Requirement already satisfied: markdown-it-py>=2.2.0 in /usr/local/lib/python3.11/dist-packages (from rich->keras>=3.2.0->scikeras) (3.0.0)\n",
            "Requirement already satisfied: pygments<3.0.0,>=2.13.0 in /usr/local/lib/python3.11/dist-packages (from rich->keras>=3.2.0->scikeras) (2.19.1)\n",
            "Requirement already satisfied: mdurl~=0.1 in /usr/local/lib/python3.11/dist-packages (from markdown-it-py>=2.2.0->rich->keras>=3.2.0->scikeras) (0.1.2)\n"
          ]
        }
      ]
    },
    {
      "cell_type": "code",
      "source": [
        "from sklearn.linear_model import Ridge, Lasso\n",
        "from sklearn.model_selection import train_test_split, cross_val_score\n",
        "from sklearn.preprocessing import StandardScaler\n",
        "from sklearn.metrics import mean_squared_error, r2_score\n",
        "import tensorflow as tf\n",
        "from tensorflow.keras.models import Sequential\n",
        "from tensorflow.keras.layers import Dense\n",
        "from tensorflow.keras.optimizers import Adam\n",
        "from scikeras.wrappers import KerasRegressor\n",
        "from sklearn.model_selection import cross_val_score\n",
        "import xgboost as xgb\n",
        "import numpy as np\n",
        "import time"
      ],
      "metadata": {
        "id": "sWK7K6xULMen"
      },
      "execution_count": 123,
      "outputs": []
    },
    {
      "cell_type": "markdown",
      "source": [
        "For the two glm models that I am doing first I decided to do ridge and lasso regression because I the outcome variable y is a continuous variable seemingly."
      ],
      "metadata": {
        "id": "KjmfQ7OyLOlA"
      }
    },
    {
      "cell_type": "code",
      "source": [
        "# Separate the out come variable from the prediictors\n",
        "#all predictor variables excluding y\n",
        "X = dfdata1000.drop(columns='Y')\n",
        "#the outcome variable y\n",
        "Y = dfdata1000['Y']\n",
        "\n",
        "#separating the data set into two sets, the training and the holdout sets.\n",
        "#the training set is 80% of the data set. The holdout is 20%.\n",
        "X_train, X_test, Y_train, Y_test = train_test_split(X, Y, train_size=0.8, random_state=42)\n",
        "\n"
      ],
      "metadata": {
        "id": "Ff-UCtVbLabo"
      },
      "execution_count": 99,
      "outputs": []
    },
    {
      "cell_type": "code",
      "source": [
        "#here we scale the features. We do this because there is a large range in the size of variables.\n",
        "#some of the x values are much larger than others.\n",
        "scaler = StandardScaler()\n",
        "X_train_scaled = scaler.fit_transform(X_train)\n",
        "X_test_scaled = scaler.transform(X_test)"
      ],
      "metadata": {
        "id": "WMI6nhiDM30r"
      },
      "execution_count": 100,
      "outputs": []
    },
    {
      "cell_type": "code",
      "source": [
        "# Here we define our two models.\n",
        "#They are both using y as the outcome and work on continuous variables.\n",
        "model1 = Ridge(alpha=1.0)\n",
        "model2 = Lasso(alpha=0.1)"
      ],
      "metadata": {
        "id": "_3zFU_wzNOrQ"
      },
      "execution_count": 101,
      "outputs": []
    },
    {
      "cell_type": "code",
      "source": [
        "#Ridge: model 1\n",
        "#Cross validation score location:https://scikit-learn.org/stable/modules/generated/sklearn.model_selection.cross_val_score.html\n",
        "#setting up the timer\n",
        "start = time.time()\n",
        "#gettign cross validation scores based on model 1. using 5 folds for cv.\n",
        "cv_scores_ridge = cross_val_score(model1, X_train_scaled, Y_train, cv=5, scoring='neg_mean_squared_error')\n",
        "cv = np.mean(cv_scores_ridge)\n",
        "\n",
        "#fitting the model\n",
        "model1.fit(X_train_scaled, Y_train)\n",
        "end = time.time()\n",
        "time1 = end - start\n",
        "\n",
        "# Predict on hold-out set\n",
        "#using model 1 to make prediction\n",
        "Y_pred1 = model1.predict(X_test_scaled)\n",
        "#Getting the mean squared error for the difference between the two.\n",
        "mse1 = mean_squared_error(Y_test, Y_pred1)\n",
        "\n",
        "print(time1)\n",
        "print(mse1)\n",
        "print(cv)\n",
        "print(cv/time1)\n"
      ],
      "metadata": {
        "colab": {
          "base_uri": "https://localhost:8080/"
        },
        "id": "pcm0P-9KNlWO",
        "outputId": "3cdf27b6-07d4-4bfb-816e-34d59fdda846"
      },
      "execution_count": 102,
      "outputs": [
        {
          "output_type": "stream",
          "name": "stdout",
          "text": [
            "0.08777666091918945\n",
            "42997602569142.945\n",
            "-11914271400738.896\n",
            "-135733932869782.2\n"
          ]
        }
      ]
    },
    {
      "cell_type": "code",
      "source": [
        "# Model 2: Lasso\n",
        "start_2 = time.time()\n",
        "cv_scores_lasso = cross_val_score(model2, X_train_scaled, Y_train, cv=5, scoring='neg_mean_squared_error')\n",
        "model2.fit(X_train_scaled, Y_train)\n",
        "end_2 = time.time()\n",
        "cv = np.mean(cv_scores_lasso)\n",
        "\n",
        "time2 = end_2 - start_2\n",
        "print(time2)\n",
        "\n",
        "# Prediction on the hold-out set\n",
        "Y_pred2 = model2.predict(X_test_scaled)\n",
        "mse2 = mean_squared_error(Y_test, Y_pred2)\n",
        "\n",
        "print(mse2)\n",
        "print(cv)\n",
        "print(cv/time2)\n"
      ],
      "metadata": {
        "colab": {
          "base_uri": "https://localhost:8080/"
        },
        "id": "C8F8TCLSPxSs",
        "outputId": "6d99ac6a-4f40-4945-e790-621d235b3736"
      },
      "execution_count": 103,
      "outputs": [
        {
          "output_type": "stream",
          "name": "stdout",
          "text": [
            "0.029732704162597656\n",
            "41606837392262.4\n",
            "-11880306318490.988\n",
            "-399570326786349.1\n"
          ]
        }
      ]
    },
    {
      "cell_type": "markdown",
      "source": [
        "The first two xgboost models. We are going to use the same values we did for the x trained, y train etc as before since we are still using scikit."
      ],
      "metadata": {
        "id": "zNkHyChMQ-0M"
      }
    },
    {
      "cell_type": "code",
      "source": [
        "#Setting up the two xgb models this time using different hyper parameters.\n",
        "#I wanted to use something with the same interface as the prior models so I used the xgb.XGBRegressor() function.\n",
        "#I got info about it here: https://xgboost.readthedocs.io/en/latest/python/sklearn_estimator.html#obtaining-the-native-booster-object\n",
        "\n",
        "xgb1 = xgb.XGBRegressor(objective='reg:squarederror', n_estimators=100, max_depth=3, learning_rate=0.1, random_state=42)\n",
        "xgb2 = xgb.XGBRegressor(objective='reg:squarederror', n_estimators=200, max_depth=5, learning_rate=0.05, random_state=42)"
      ],
      "metadata": {
        "id": "kUOnuj9YQ96X"
      },
      "execution_count": 48,
      "outputs": []
    },
    {
      "cell_type": "code",
      "source": [
        "#xgb1\n",
        "start1 = time.time()\n",
        "cv_xgb1 = cross_val_score(model1, X_train_scaled, Y_train, cv=5, scoring='neg_mean_squared_error')\n",
        "cv_xgb1 = np.mean(cv_xgb1)\n",
        "model1.fit(X_train_scaled, Y_train)\n",
        "end1 = time.time()\n",
        "\n",
        "y_pred1 = model1.predict(X_test_scaled)\n",
        "mseXGB1 = mean_squared_error(Y_test, Y_pred1)\n",
        "\n",
        "timeXGB1 = end1 - start1\n",
        "print(timeXGB1)\n",
        "print(mseXGB1)\n",
        "print(cv_xgb1)\n",
        "print(cv_xgb1/timeXGB1)"
      ],
      "metadata": {
        "colab": {
          "base_uri": "https://localhost:8080/"
        },
        "id": "NdQguSSOS0Z7",
        "outputId": "484cf989-28d4-403b-bb68-8b9f8c79d596"
      },
      "execution_count": 104,
      "outputs": [
        {
          "output_type": "stream",
          "name": "stdout",
          "text": [
            "0.040370941162109375\n",
            "42997602569142.945\n",
            "-11914271400738.896\n",
            "-295119981297864.25\n"
          ]
        }
      ]
    },
    {
      "cell_type": "code",
      "source": [
        "#xgb2\n",
        "start2 = time.time()\n",
        "cv_xgb2 = cross_val_score(model2, X_train_scaled, Y_train, cv=5, scoring='neg_mean_squared_error')\n",
        "cv_xgb2 = np.mean(cv_xgb2)\n",
        "xgb2.fit(X_train_scaled, Y_train)\n",
        "end2 = time.time()\n",
        "\n",
        "Y_pred2 = model2.predict(X_test_scaled)\n",
        "mse2 = mean_squared_error(Y_test, Y_pred2)\n",
        "time2 = end2 - start2\n",
        "print(time2)\n",
        "print(mse2)\n",
        "print(cv_xgb2)\n",
        "print(cv_xgb2/time2)"
      ],
      "metadata": {
        "colab": {
          "base_uri": "https://localhost:8080/"
        },
        "id": "Cb3uzlYSTLw1",
        "outputId": "294eeafa-4332-4e2a-c961-eca463cf11ed"
      },
      "execution_count": 105,
      "outputs": [
        {
          "output_type": "stream",
          "name": "stdout",
          "text": [
            "1.2043671607971191\n",
            "41606837392262.4\n",
            "-11880306318490.988\n",
            "-9864355908399.164\n"
          ]
        }
      ]
    },
    {
      "cell_type": "markdown",
      "source": [
        "The first two deep learning networks. These are using a similar format to make it easier."
      ],
      "metadata": {
        "id": "1MiASv1ZV-Gh"
      }
    },
    {
      "cell_type": "code",
      "source": [
        "# Building the model\n",
        "#picking activation sequence\n",
        "#https://www.geeksforgeeks.org/choosing-the-right-activation-function-for-your-neural-network/\n",
        "#I used code fron the week 14 asignment for this\n",
        "\n",
        "#getting the training accuracy and validation accuracy\n",
        "#how to get the accuracy from the model easily\n",
        "#https://machinelearningmastery.com/display-deep-learning-model-training-history-in-keras/\n",
        "\n",
        "# Convert to NumPy arrays for Keras\n",
        "X_train_np = np.array(X_train_scaled)\n",
        "X_test_np = np.array(X_test_scaled)\n",
        "Y_train_np = np.array(Y_train)\n",
        "Y_test_np = np.array(Y_test)\n",
        "\n",
        "#create model\n",
        "dl_model = Sequential([\n",
        "    Dense(32, activation='relu', input_shape=(X_train_np.shape[1],)),\n",
        "    Dense(1)\n",
        "])\n",
        "\n",
        "# Compile the model\n",
        "#I chose these based on the classification example in the learning materials. I couldnt get it to run until I changed how \"adam\" was included\n",
        "dl_model.compile(optimizer=Adam(learning_rate=0.01), loss='mse')\n",
        "\n",
        "start_time = time.time()\n",
        "\n",
        "# Train the model\n",
        "dl_model.trained = dl_model.fit(X_train_np, Y_train_np, epochs=50, batch_size = 32, verbose=0)\n",
        "end = time.time()\n",
        "elapsed_time = end - start_time\n",
        "\n",
        "Y_train_pred = dl_model.predict(X_train_np).flatten()\n",
        "train_mse = mean_squared_error(Y_train_np, Y_train_pred)\n",
        "\n",
        "# Predict on hold-out set\n",
        "Y_pred = dl_model.predict(X_test_np).flatten()\n",
        "mse1 = mean_squared_error(Y_test_np, y_pred1)\n",
        "\n",
        "print(elapsed_time)\n",
        "print(mse1)\n",
        "print(train_mse)\n",
        "print(train_mse/elapsed_time)\n",
        "\n"
      ],
      "metadata": {
        "colab": {
          "base_uri": "https://localhost:8080/"
        },
        "id": "vu19XOAaWDKC",
        "outputId": "1e44029a-3fc6-45be-bb7d-0fdad5784496"
      },
      "execution_count": 106,
      "outputs": [
        {
          "output_type": "stream",
          "name": "stderr",
          "text": [
            "/usr/local/lib/python3.11/dist-packages/keras/src/layers/core/dense.py:87: UserWarning: Do not pass an `input_shape`/`input_dim` argument to a layer. When using Sequential models, prefer using an `Input(shape)` object as the first layer in the model instead.\n",
            "  super().__init__(activity_regularizer=activity_regularizer, **kwargs)\n"
          ]
        },
        {
          "output_type": "stream",
          "name": "stdout",
          "text": [
            "\u001b[1m3/3\u001b[0m \u001b[32m━━━━━━━━━━━━━━━━━━━━\u001b[0m\u001b[37m\u001b[0m \u001b[1m0s\u001b[0m 23ms/step\n",
            "\u001b[1m1/1\u001b[0m \u001b[32m━━━━━━━━━━━━━━━━━━━━\u001b[0m\u001b[37m\u001b[0m \u001b[1m0s\u001b[0m 40ms/step\n",
            "3.5299012660980225\n",
            "42997602569142.945\n",
            "244549661813733.0\n",
            "69279462335800.66\n"
          ]
        }
      ]
    },
    {
      "cell_type": "code",
      "source": [
        "#deep learning model two\n",
        "dl_model2 = tf.keras.Sequential([\n",
        "    Dense(64, activation='relu', input_shape=(X_train_np.shape[1],)),\n",
        "    Dense(32, activation='relu'),\n",
        "    Dense(1)\n",
        "])\n",
        "\n",
        "dl_model2.compile(optimizer=Adam(learning_rate=0.005), loss='mse')\n",
        "\n",
        "start2 = time.time()\n",
        "dl_model2.fit(X_train_np, Y_train_np, epochs=50, batch_size=32, verbose=0)\n",
        "end2 = time.time()\n",
        "\n",
        "# Predict on training set\n",
        "Y_train_pred = dl_model2.predict(X_train_np).flatten()\n",
        "train_mse = mean_squared_error(Y_train_np, Y_train_pred)\n",
        "\n",
        "y_pred2 = model2.predict(X_test_np).flatten()\n",
        "\n",
        "mse2 = mean_squared_error(Y_test_np, Y_pred2)\n",
        "\n",
        "time = end2 - start2\n",
        "print(time)\n",
        "print(mse2)\n",
        "print(train_mse)\n",
        "print(train_mse/time)"
      ],
      "metadata": {
        "colab": {
          "base_uri": "https://localhost:8080/"
        },
        "id": "ApuZGYvDas75",
        "outputId": "19f2f6c3-2b4d-446e-ad48-771576971e2c"
      },
      "execution_count": 107,
      "outputs": [
        {
          "output_type": "stream",
          "name": "stderr",
          "text": [
            "/usr/local/lib/python3.11/dist-packages/keras/src/layers/core/dense.py:87: UserWarning: Do not pass an `input_shape`/`input_dim` argument to a layer. When using Sequential models, prefer using an `Input(shape)` object as the first layer in the model instead.\n",
            "  super().__init__(activity_regularizer=activity_regularizer, **kwargs)\n"
          ]
        },
        {
          "output_type": "stream",
          "name": "stdout",
          "text": [
            "\u001b[1m3/3\u001b[0m \u001b[32m━━━━━━━━━━━━━━━━━━━━\u001b[0m\u001b[37m\u001b[0m \u001b[1m0s\u001b[0m 28ms/step\n",
            "5.57960057258606\n",
            "41606837392262.4\n",
            "244454189932600.5\n",
            "43812130770375.15\n"
          ]
        }
      ]
    },
    {
      "cell_type": "markdown",
      "source": [
        "Now for the models with 10,000 observations# Separate the out come variable from the prediictors\n"
      ],
      "metadata": {
        "id": "g_VUYzf_XGKx"
      }
    },
    {
      "cell_type": "code",
      "source": [
        "# Separate the out come variable from the prediictors\n",
        "#all predictor variables excluding y\n",
        "X = dfdata10000.drop(columns='Y')\n",
        "#the outcome variable y\n",
        "Y = dfdata10000['Y']\n",
        "\n",
        "#separating the data set into two sets, the training and the holdout sets.\n",
        "#the training set is 80% of the data set. The holdout is 20%.\n",
        "X_train, X_test, Y_train, Y_test = train_test_split(X, Y, train_size=0.8, random_state=42)\n",
        "\n",
        "#here we scale the features. We do this because there is a large range in the size of variables.\n",
        "#some of the x values are much larger than others.\n",
        "scaler = StandardScaler()\n",
        "X_train_scaled = scaler.fit_transform(X_train)\n",
        "X_test_scaled = scaler.transform(X_test)"
      ],
      "metadata": {
        "id": "h1xK2mb9iaNT"
      },
      "execution_count": 109,
      "outputs": []
    },
    {
      "cell_type": "code",
      "source": [
        "# Here we define our two models.\n",
        "#They are both using y as the outcome and work on continuous variables.\n",
        "model1 = Ridge(alpha=1.0)\n",
        "model2 = Lasso(alpha=0.1)"
      ],
      "metadata": {
        "id": "XJRgYZZOioQz"
      },
      "execution_count": 113,
      "outputs": []
    },
    {
      "cell_type": "code",
      "source": [
        "#Ridge 10,000\n",
        "#Cross validation score location:https://scikit-learn.org/stable/modules/generated/sklearn.model_selection.cross_val_score.html\n",
        "#setting up the timer\n",
        "start = time.time()\n",
        "#gettign cross validation scores based on model 1. using 5 folds for cv.\n",
        "cv_scores_ridge = cross_val_score(model1, X_train_scaled, Y_train, cv=5, scoring='neg_mean_squared_error')\n",
        "cv = np.mean(cv_scores_ridge)\n",
        "\n",
        "#fitting the model\n",
        "model1.fit(X_train_scaled, Y_train)\n",
        "end = time.time()\n",
        "time1 = end - start\n",
        "\n",
        "# Predict on hold-out set\n",
        "#using model 1 to make prediction\n",
        "Y_pred1 = model1.predict(X_test_scaled)\n",
        "#Getting the mean squared error for the difference between the two.\n",
        "mse1 = mean_squared_error(Y_test, Y_pred1)\n",
        "\n",
        "print(time1)\n",
        "print(mse1)\n",
        "print(cv)\n",
        "print(cv/time1)\n"
      ],
      "metadata": {
        "colab": {
          "base_uri": "https://localhost:8080/"
        },
        "outputId": "98575386-ad57-48b3-d537-eeb4118e72d2",
        "id": "obR1Tt-5klj8"
      },
      "execution_count": 114,
      "outputs": [
        {
          "output_type": "stream",
          "name": "stdout",
          "text": [
            "0.07459735870361328\n",
            "42997602569142.945\n",
            "-11914271400738.896\n",
            "-159714386779780.22\n"
          ]
        }
      ]
    },
    {
      "cell_type": "code",
      "source": [
        "#Lasso 10,000\n",
        "start_2 = time.time()\n",
        "cv_scores_lasso = cross_val_score(model2, X_train_scaled, Y_train, cv=5, scoring='neg_mean_squared_error')\n",
        "model2.fit(X_train_scaled, Y_train)\n",
        "end_2 = time.time()\n",
        "cv = np.mean(cv_scores_lasso)\n",
        "\n",
        "time2 = end_2 - start_2\n",
        "print(time2)\n",
        "\n",
        "# Predict on hold-out set\n",
        "Y_pred2 = model2.predict(X_test_scaled)\n",
        "mse2 = mean_squared_error(Y_test, Y_pred2)\n",
        "\n",
        "print(mse2)\n",
        "print(cv)\n",
        "print(cv/time2)\n"
      ],
      "metadata": {
        "colab": {
          "base_uri": "https://localhost:8080/"
        },
        "outputId": "e5464068-14b0-4642-c307-dc7b3ee352c8",
        "id": "8bLtYv01k-P7"
      },
      "execution_count": 115,
      "outputs": [
        {
          "output_type": "stream",
          "name": "stdout",
          "text": [
            "0.01830911636352539\n",
            "41606837392262.4\n",
            "-11880306318490.988\n",
            "-648873822341224.9\n"
          ]
        }
      ]
    },
    {
      "cell_type": "code",
      "source": [
        "#setting up model\n",
        "xgb1 = xgb.XGBRegressor(objective='reg:squarederror', n_estimators=100, max_depth=3, learning_rate=0.1, random_state=42)\n",
        "xgb2 = xgb.XGBRegressor(objective='reg:squarederror', n_estimators=200, max_depth=5, learning_rate=0.05, random_state=42)"
      ],
      "metadata": {
        "id": "hMIHhlUxlGyv"
      },
      "execution_count": null,
      "outputs": []
    },
    {
      "cell_type": "code",
      "source": [
        "#xgb10,000\n",
        "start1 = time.time()\n",
        "cv_xgb1 = cross_val_score(model1, X_train_scaled, Y_train, cv=5, scoring='neg_mean_squared_error')\n",
        "cv_xgb1 = np.mean(cv_xgb1)\n",
        "model1.fit(X_train_scaled, Y_train)\n",
        "end1 = time.time()\n",
        "\n",
        "y_pred1 = model1.predict(X_test_scaled)\n",
        "mseXGB1 = mean_squared_error(Y_test, Y_pred1)\n",
        "\n",
        "timeXGB1 = end1 - start1\n",
        "print(timeXGB1)\n",
        "print(mseXGB1)\n",
        "print(cv_xgb1)\n",
        "print(cv_xgb1/timeXGB1)"
      ],
      "metadata": {
        "colab": {
          "base_uri": "https://localhost:8080/"
        },
        "outputId": "304715c0-4f25-4511-f0a8-ac693ba3a1a3",
        "id": "N2gBQrDZlPQv"
      },
      "execution_count": 116,
      "outputs": [
        {
          "output_type": "stream",
          "name": "stdout",
          "text": [
            "0.018764972686767578\n",
            "42997602569142.945\n",
            "-11914271400738.896\n",
            "-634920796295133.2\n"
          ]
        }
      ]
    },
    {
      "cell_type": "code",
      "source": [
        "#xgb10,000\n",
        "start2 = time.time()\n",
        "cv_xgb2 = cross_val_score(model2, X_train_scaled, Y_train, cv=5, scoring='neg_mean_squared_error')\n",
        "cv_xgb2 = np.mean(cv_xgb2)\n",
        "xgb2.fit(X_train_scaled, Y_train)\n",
        "end2 = time.time()\n",
        "\n",
        "Y_pred2 = model2.predict(X_test_scaled)\n",
        "mse2 = mean_squared_error(Y_test, Y_pred2)\n",
        "time2 = end2 - start2\n",
        "print(time2)\n",
        "print(mse2)\n",
        "print(cv_xgb2)\n",
        "print(cv_xgb2/time2)"
      ],
      "metadata": {
        "colab": {
          "base_uri": "https://localhost:8080/"
        },
        "outputId": "aaea868b-c663-48d9-b2c4-9dcaae362ea8",
        "id": "4cSCCFDEldpm"
      },
      "execution_count": 117,
      "outputs": [
        {
          "output_type": "stream",
          "name": "stdout",
          "text": [
            "0.25176572799682617\n",
            "41606837392262.4\n",
            "-11880306318490.988\n",
            "-47187940999820.09\n"
          ]
        }
      ]
    },
    {
      "cell_type": "code",
      "source": [
        "# Convert to NumPy arrays for Keras\n",
        "X_train_np = np.array(X_train_scaled)\n",
        "X_test_np = np.array(X_test_scaled)\n",
        "Y_train_np = np.array(Y_train)\n",
        "Y_test_np = np.array(Y_test)\n",
        "\n",
        "#create model\n",
        "dl_model = Sequential([\n",
        "    Dense(32, activation='relu', input_shape=(X_train_np.shape[1],)),\n",
        "    Dense(1)\n",
        "])\n",
        "\n",
        "# Compile the model\n",
        "#I chose these based on the classification example in the learning materials. I couldnt get it to run until I changed how \"adam\" was included\n",
        "dl_model.compile(optimizer=Adam(learning_rate=0.01), loss='mse')\n",
        "\n",
        "start_time = time.time()\n",
        "\n",
        "# Train the model\n",
        "dl_model.trained = dl_model.fit(X_train_np, Y_train_np, epochs=50, batch_size = 32, verbose=0)\n",
        "end = time.time()\n",
        "elapsed_time = end - start_time\n",
        "\n",
        "Y_train_pred = dl_model.predict(X_train_np).flatten()\n",
        "train_mse = mean_squared_error(Y_train_np, Y_train_pred)\n",
        "\n",
        "# Predict on hold-out set\n",
        "Y_pred = dl_model.predict(X_test_np).flatten()\n",
        "mse1 = mean_squared_error(Y_test_np, y_pred1)\n",
        "\n",
        "print(elapsed_time)\n",
        "print(mse1)\n",
        "print(train_mse)\n",
        "print(train_mse/elapsed_time)\n",
        "\n"
      ],
      "metadata": {
        "colab": {
          "base_uri": "https://localhost:8080/"
        },
        "outputId": "1914389d-367f-4d98-b985-5ae74b4f95a1",
        "id": "21g7q_EJlw7u"
      },
      "execution_count": 118,
      "outputs": [
        {
          "output_type": "stream",
          "name": "stderr",
          "text": [
            "/usr/local/lib/python3.11/dist-packages/keras/src/layers/core/dense.py:87: UserWarning: Do not pass an `input_shape`/`input_dim` argument to a layer. When using Sequential models, prefer using an `Input(shape)` object as the first layer in the model instead.\n",
            "  super().__init__(activity_regularizer=activity_regularizer, **kwargs)\n"
          ]
        },
        {
          "output_type": "stream",
          "name": "stdout",
          "text": [
            "\u001b[1m3/3\u001b[0m \u001b[32m━━━━━━━━━━━━━━━━━━━━\u001b[0m\u001b[37m\u001b[0m \u001b[1m0s\u001b[0m 24ms/step\n",
            "\u001b[1m1/1\u001b[0m \u001b[32m━━━━━━━━━━━━━━━━━━━━\u001b[0m\u001b[37m\u001b[0m \u001b[1m0s\u001b[0m 40ms/step\n",
            "3.6279704570770264\n",
            "42997602569142.945\n",
            "244551066542289.25\n",
            "67407127327965.76\n"
          ]
        }
      ]
    },
    {
      "cell_type": "code",
      "source": [
        "#deep learning model two\n",
        "dl_model2 = tf.keras.Sequential([\n",
        "    Dense(64, activation='relu', input_shape=(X_train_np.shape[1],)),\n",
        "    Dense(32, activation='relu'),\n",
        "    Dense(1)\n",
        "])\n",
        "\n",
        "dl_model2.compile(optimizer=Adam(learning_rate=0.005), loss='mse')\n",
        "\n",
        "start2 = time.time()\n",
        "dl_model2.fit(X_train_np, Y_train_np, epochs=50, batch_size=32, verbose=0)\n",
        "end2 = time.time()\n",
        "\n",
        "# Predict on training set\n",
        "Y_train_pred = dl_model2.predict(X_train_np).flatten()\n",
        "train_mse = mean_squared_error(Y_train_np, Y_train_pred)\n",
        "\n",
        "y_pred2 = model2.predict(X_test_np).flatten()\n",
        "\n",
        "mse2 = mean_squared_error(Y_test_np, Y_pred2)\n",
        "\n",
        "time = end2 - start2\n",
        "print(time)\n",
        "print(mse2)\n",
        "print(train_mse)\n",
        "print(train_mse/time)"
      ],
      "metadata": {
        "colab": {
          "base_uri": "https://localhost:8080/"
        },
        "outputId": "c8e1cc34-098c-4b3a-dc79-78cfe2aa602d",
        "id": "yBKW-AYCl52A"
      },
      "execution_count": 119,
      "outputs": [
        {
          "output_type": "stream",
          "name": "stderr",
          "text": [
            "/usr/local/lib/python3.11/dist-packages/keras/src/layers/core/dense.py:87: UserWarning: Do not pass an `input_shape`/`input_dim` argument to a layer. When using Sequential models, prefer using an `Input(shape)` object as the first layer in the model instead.\n",
            "  super().__init__(activity_regularizer=activity_regularizer, **kwargs)\n"
          ]
        },
        {
          "output_type": "stream",
          "name": "stdout",
          "text": [
            "\u001b[1m3/3\u001b[0m \u001b[32m━━━━━━━━━━━━━━━━━━━━\u001b[0m\u001b[37m\u001b[0m \u001b[1m0s\u001b[0m 29ms/step\n",
            "5.628742218017578\n",
            "41606837392262.4\n",
            "244459541227627.2\n",
            "43430580360406.86\n"
          ]
        }
      ]
    },
    {
      "cell_type": "markdown",
      "source": [
        "Now for the 100,000 object data sets"
      ],
      "metadata": {
        "id": "FL5dUduZl7Rk"
      }
    },
    {
      "cell_type": "code",
      "source": [
        "# Separate the out come variable from the prediictors\n",
        "#all predictor variables excluding y\n",
        "X = dfdata100000.drop(columns='Y')\n",
        "#the outcome variable y\n",
        "Y = dfdata100000['Y']\n",
        "\n",
        "#separating the data set into two sets, the training and the holdout sets.\n",
        "#the training set is 80% of the data set. The holdout is 20%.\n",
        "X_train, X_test, Y_train, Y_test = train_test_split(X, Y, train_size=0.8, random_state=42)\n",
        "\n",
        "#here we scale the features. We do this because there is a large range in the size of variables.\n",
        "#some of the x values are much larger than others.\n",
        "scaler = StandardScaler()\n",
        "X_train_scaled = scaler.fit_transform(X_train)\n",
        "X_test_scaled = scaler.transform(X_test)"
      ],
      "metadata": {
        "id": "9AmXZj0ymSQI"
      },
      "execution_count": 120,
      "outputs": []
    },
    {
      "cell_type": "code",
      "source": [
        "# Here we define our two models.\n",
        "#They are both using y as the outcome and work on continuous variables.\n",
        "model1 = Ridge(alpha=1.0)\n",
        "model2 = Lasso(alpha=0.1)"
      ],
      "metadata": {
        "id": "ZDj469sQmZWB"
      },
      "execution_count": 121,
      "outputs": []
    },
    {
      "cell_type": "code",
      "source": [
        "#Ridge: model 1\n",
        "#Cross validation score location:https://scikit-learn.org/stable/modules/generated/sklearn.model_selection.cross_val_score.html\n",
        "#setting up the timer\n",
        "start = time.time()\n",
        "#gettign cross validation scores based on model 1. using 5 folds for cv.\n",
        "cv_scores_ridge = cross_val_score(model1, X_train_scaled, Y_train, cv=5, scoring='neg_mean_squared_error')\n",
        "cv = np.mean(cv_scores_ridge)\n",
        "\n",
        "#fitting the model\n",
        "model1.fit(X_train_scaled, Y_train)\n",
        "end = time.time()\n",
        "time1 = end - start\n",
        "\n",
        "# Predict on hold-out set\n",
        "#using model 1 to make prediction\n",
        "Y_pred1 = model1.predict(X_test_scaled)\n",
        "#Getting the mean squared error for the difference between the two.\n",
        "mse1 = mean_squared_error(Y_test, Y_pred1)\n",
        "\n",
        "print(time1)\n",
        "print(mse1)\n",
        "print(cv)\n",
        "print(cv/time1)\n"
      ],
      "metadata": {
        "colab": {
          "base_uri": "https://localhost:8080/"
        },
        "outputId": "89c6bf27-6093-42af-f446-15aabb719e48",
        "id": "DExnTk0nmcAa"
      },
      "execution_count": 124,
      "outputs": [
        {
          "output_type": "stream",
          "name": "stdout",
          "text": [
            "0.029134035110473633\n",
            "42997602569142.945\n",
            "-11914271400738.896\n",
            "-408946833336372.9\n"
          ]
        }
      ]
    },
    {
      "cell_type": "code",
      "source": [
        "#Model 2: Lasso\n",
        "start_2 = time.time()\n",
        "cv_scores_lasso = cross_val_score(model2, X_train_scaled, Y_train, cv=5, scoring='neg_mean_squared_error')\n",
        "model2.fit(X_train_scaled, Y_train)\n",
        "end_2 = time.time()\n",
        "cv = np.mean(cv_scores_lasso)\n",
        "\n",
        "time2 = end_2 - start_2\n",
        "print(time2)\n",
        "\n",
        "# Predict on hold-out set\n",
        "Y_pred2 = model2.predict(X_test_scaled)\n",
        "mse2 = mean_squared_error(Y_test, Y_pred2)\n",
        "\n",
        "print(mse2)\n",
        "print(cv)\n",
        "print(cv/time2)\n"
      ],
      "metadata": {
        "colab": {
          "base_uri": "https://localhost:8080/"
        },
        "outputId": "4048a16a-ad92-4782-fe1f-c93ffa826be9",
        "id": "xcPeuXsxmloS"
      },
      "execution_count": 125,
      "outputs": [
        {
          "output_type": "stream",
          "name": "stdout",
          "text": [
            "0.03281354904174805\n",
            "41606837392262.4\n",
            "-11880306318490.988\n",
            "-362054903094325.56\n"
          ]
        }
      ]
    },
    {
      "cell_type": "code",
      "source": [
        "#Setting up the two xgb models this time using different hyper parameters.\n",
        "#I wanted to use something with the same interface as the prior models so I used the xgb.XGBRegressor() function.\n",
        "#I got info about it here: https://xgboost.readthedocs.io/en/latest/python/sklearn_estimator.html#obtaining-the-native-booster-object\n",
        "\n",
        "xgb1 = xgb.XGBRegressor(objective='reg:squarederror', n_estimators=100, max_depth=3, learning_rate=0.1, random_state=42)\n",
        "xgb2 = xgb.XGBRegressor(objective='reg:squarederror', n_estimators=200, max_depth=5, learning_rate=0.05, random_state=42)"
      ],
      "metadata": {
        "id": "beoixOZUmoMb"
      },
      "execution_count": 126,
      "outputs": []
    },
    {
      "cell_type": "code",
      "source": [
        "#xgb1\n",
        "start1 = time.time()\n",
        "cv_xgb1 = cross_val_score(model1, X_train_scaled, Y_train, cv=5, scoring='neg_mean_squared_error')\n",
        "cv_xgb1 = np.mean(cv_xgb1)\n",
        "model1.fit(X_train_scaled, Y_train)\n",
        "end1 = time.time()\n",
        "\n",
        "y_pred1 = model1.predict(X_test_scaled)\n",
        "mseXGB1 = mean_squared_error(Y_test, Y_pred1)\n",
        "\n",
        "timeXGB1 = end1 - start1\n",
        "print(timeXGB1)\n",
        "print(mseXGB1)\n",
        "print(cv_xgb1)\n",
        "print(cv_xgb1/timeXGB1)"
      ],
      "metadata": {
        "colab": {
          "base_uri": "https://localhost:8080/"
        },
        "outputId": "2260414f-4dbf-4230-ed24-e4a8504554e2",
        "id": "egbUHKbymvNJ"
      },
      "execution_count": 127,
      "outputs": [
        {
          "output_type": "stream",
          "name": "stdout",
          "text": [
            "0.03228449821472168\n",
            "42997602569142.945\n",
            "-11914271400738.896\n",
            "-369040005562360.2\n"
          ]
        }
      ]
    },
    {
      "cell_type": "code",
      "source": [
        "#xgb2\n",
        "start2 = time.time()\n",
        "cv_xgb2 = cross_val_score(model2, X_train_scaled, Y_train, cv=5, scoring='neg_mean_squared_error')\n",
        "cv_xgb2 = np.mean(cv_xgb2)\n",
        "xgb2.fit(X_train_scaled, Y_train)\n",
        "end2 = time.time()\n",
        "\n",
        "Y_pred2 = model2.predict(X_test_scaled)\n",
        "mse2 = mean_squared_error(Y_test, Y_pred2)\n",
        "time2 = end2 - start2\n",
        "print(time2)\n",
        "print(mse2)\n",
        "print(cv_xgb2)\n",
        "print(cv_xgb2/time2)"
      ],
      "metadata": {
        "colab": {
          "base_uri": "https://localhost:8080/"
        },
        "outputId": "1f1100c9-8f39-429a-9447-4edd2cc8e62e",
        "id": "e9c6SnlymxiD"
      },
      "execution_count": 128,
      "outputs": [
        {
          "output_type": "stream",
          "name": "stdout",
          "text": [
            "0.12788844108581543\n",
            "41606837392262.4\n",
            "-11880306318490.988\n",
            "-92895856870435.16\n"
          ]
        }
      ]
    },
    {
      "cell_type": "code",
      "source": [
        "# Building the model\n",
        "#picking activation sequence\n",
        "#https://www.geeksforgeeks.org/choosing-the-right-activation-function-for-your-neural-network/\n",
        "#I used code fron the week 14 asignment for this\n",
        "\n",
        "#getting the training accuracy and validation accuracy\n",
        "#how to get the accuracy from the model easily\n",
        "#https://machinelearningmastery.com/display-deep-learning-model-training-history-in-keras/\n",
        "\n",
        "# Convert to NumPy arrays for Keras\n",
        "X_train_np = np.array(X_train_scaled)\n",
        "X_test_np = np.array(X_test_scaled)\n",
        "Y_train_np = np.array(Y_train)\n",
        "Y_test_np = np.array(Y_test)\n",
        "\n",
        "#create model\n",
        "dl_model = Sequential([\n",
        "    Dense(32, activation='relu', input_shape=(X_train_np.shape[1],)),\n",
        "    Dense(1)\n",
        "])\n",
        "\n",
        "# Compile the model\n",
        "#I chose these based on the classification example in the learning materials. I couldnt get it to run until I changed how \"adam\" was included\n",
        "dl_model.compile(optimizer=Adam(learning_rate=0.01), loss='mse')\n",
        "\n",
        "start_time = time.time()\n",
        "\n",
        "# Train the model\n",
        "dl_model.trained = dl_model.fit(X_train_np, Y_train_np, epochs=50, batch_size = 32, verbose=0)\n",
        "end = time.time()\n",
        "elapsed_time = end - start_time\n",
        "\n",
        "Y_train_pred = dl_model.predict(X_train_np).flatten()\n",
        "train_mse = mean_squared_error(Y_train_np, Y_train_pred)\n",
        "\n",
        "# Predict on hold-out set\n",
        "Y_pred = dl_model.predict(X_test_np).flatten()\n",
        "mse1 = mean_squared_error(Y_test_np, y_pred1)\n",
        "\n",
        "print(elapsed_time)\n",
        "print(mse1)\n",
        "print(train_mse)\n",
        "print(train_mse/elapsed_time)\n",
        "\n"
      ],
      "metadata": {
        "colab": {
          "base_uri": "https://localhost:8080/"
        },
        "outputId": "635e7f6e-7dd7-46b5-fe32-10591f560337",
        "id": "SeMUxyh2m01f"
      },
      "execution_count": 129,
      "outputs": [
        {
          "output_type": "stream",
          "name": "stderr",
          "text": [
            "/usr/local/lib/python3.11/dist-packages/keras/src/layers/core/dense.py:87: UserWarning: Do not pass an `input_shape`/`input_dim` argument to a layer. When using Sequential models, prefer using an `Input(shape)` object as the first layer in the model instead.\n",
            "  super().__init__(activity_regularizer=activity_regularizer, **kwargs)\n"
          ]
        },
        {
          "output_type": "stream",
          "name": "stdout",
          "text": [
            "\u001b[1m3/3\u001b[0m \u001b[32m━━━━━━━━━━━━━━━━━━━━\u001b[0m\u001b[37m\u001b[0m \u001b[1m0s\u001b[0m 29ms/step\n",
            "\u001b[1m1/1\u001b[0m \u001b[32m━━━━━━━━━━━━━━━━━━━━\u001b[0m\u001b[37m\u001b[0m \u001b[1m0s\u001b[0m 39ms/step\n",
            "5.037964105606079\n",
            "42997602569142.945\n",
            "244548993579652.1\n",
            "48541233810603.39\n"
          ]
        }
      ]
    },
    {
      "cell_type": "code",
      "source": [
        "#deep learning model two\n",
        "dl_model2 = tf.keras.Sequential([\n",
        "    Dense(64, activation='relu', input_shape=(X_train_np.shape[1],)),\n",
        "    Dense(32, activation='relu'),\n",
        "    Dense(1)\n",
        "])\n",
        "\n",
        "dl_model2.compile(optimizer=Adam(learning_rate=0.005), loss='mse')\n",
        "\n",
        "start2 = time.time()\n",
        "dl_model2.fit(X_train_np, Y_train_np, epochs=50, batch_size=32, verbose=0)\n",
        "end2 = time.time()\n",
        "\n",
        "# Predict on training set\n",
        "Y_train_pred = dl_model2.predict(X_train_np).flatten()\n",
        "train_mse = mean_squared_error(Y_train_np, Y_train_pred)\n",
        "\n",
        "y_pred2 = model2.predict(X_test_np).flatten()\n",
        "\n",
        "mse2 = mean_squared_error(Y_test_np, Y_pred2)\n",
        "\n",
        "time = end2 - start2\n",
        "print(time)\n",
        "print(mse2)\n",
        "print(train_mse)\n",
        "print(train_mse/time)"
      ],
      "metadata": {
        "colab": {
          "base_uri": "https://localhost:8080/"
        },
        "outputId": "01dd61ff-aa12-4aaf-caef-06c58a97bc24",
        "id": "fP4qn7ajm5go"
      },
      "execution_count": 130,
      "outputs": [
        {
          "output_type": "stream",
          "name": "stderr",
          "text": [
            "/usr/local/lib/python3.11/dist-packages/keras/src/layers/core/dense.py:87: UserWarning: Do not pass an `input_shape`/`input_dim` argument to a layer. When using Sequential models, prefer using an `Input(shape)` object as the first layer in the model instead.\n",
            "  super().__init__(activity_regularizer=activity_regularizer, **kwargs)\n"
          ]
        },
        {
          "output_type": "stream",
          "name": "stdout",
          "text": [
            "\u001b[1m3/3\u001b[0m \u001b[32m━━━━━━━━━━━━━━━━━━━━\u001b[0m\u001b[37m\u001b[0m \u001b[1m0s\u001b[0m 30ms/step\n",
            "4.123976707458496\n",
            "41606837392262.4\n",
            "244461570253855.5\n",
            "59278116147389.945\n"
          ]
        }
      ]
    },
    {
      "cell_type": "markdown",
      "source": [
        "Making graphs"
      ],
      "metadata": {
        "id": "fOz9yva2uCti"
      }
    },
    {
      "cell_type": "code",
      "source": [
        "results = pd.read_excel('//content//Results.xlsx')"
      ],
      "metadata": {
        "id": "YA4uoUKFzHvB"
      },
      "execution_count": 147,
      "outputs": []
    },
    {
      "cell_type": "code",
      "source": [
        "results.dtypes"
      ],
      "metadata": {
        "colab": {
          "base_uri": "https://localhost:8080/",
          "height": 303
        },
        "id": "Xd_vpcrVzQ9L",
        "outputId": "1f040c2d-fc27-4b1f-99a2-564ddd2a47c5"
      },
      "execution_count": 148,
      "outputs": [
        {
          "output_type": "execute_result",
          "data": {
            "text/plain": [
              "No_of_Observations      int64\n",
              "Method                 object\n",
              "Configuration          object\n",
              "Training_set_80       float64\n",
              "Generalized_Set_20    float64\n",
              "time                  float64\n",
              "efficiency            float64\n",
              "dtype: object"
            ],
            "text/html": [
              "<div>\n",
              "<style scoped>\n",
              "    .dataframe tbody tr th:only-of-type {\n",
              "        vertical-align: middle;\n",
              "    }\n",
              "\n",
              "    .dataframe tbody tr th {\n",
              "        vertical-align: top;\n",
              "    }\n",
              "\n",
              "    .dataframe thead th {\n",
              "        text-align: right;\n",
              "    }\n",
              "</style>\n",
              "<table border=\"1\" class=\"dataframe\">\n",
              "  <thead>\n",
              "    <tr style=\"text-align: right;\">\n",
              "      <th></th>\n",
              "      <th>0</th>\n",
              "    </tr>\n",
              "  </thead>\n",
              "  <tbody>\n",
              "    <tr>\n",
              "      <th>No_of_Observations</th>\n",
              "      <td>int64</td>\n",
              "    </tr>\n",
              "    <tr>\n",
              "      <th>Method</th>\n",
              "      <td>object</td>\n",
              "    </tr>\n",
              "    <tr>\n",
              "      <th>Configuration</th>\n",
              "      <td>object</td>\n",
              "    </tr>\n",
              "    <tr>\n",
              "      <th>Training_set_80</th>\n",
              "      <td>float64</td>\n",
              "    </tr>\n",
              "    <tr>\n",
              "      <th>Generalized_Set_20</th>\n",
              "      <td>float64</td>\n",
              "    </tr>\n",
              "    <tr>\n",
              "      <th>time</th>\n",
              "      <td>float64</td>\n",
              "    </tr>\n",
              "    <tr>\n",
              "      <th>efficiency</th>\n",
              "      <td>float64</td>\n",
              "    </tr>\n",
              "  </tbody>\n",
              "</table>\n",
              "</div><br><label><b>dtype:</b> object</label>"
            ]
          },
          "metadata": {},
          "execution_count": 148
        }
      ]
    },
    {
      "cell_type": "code",
      "source": [
        "results_df = pd.DataFrame(results)"
      ],
      "metadata": {
        "id": "MAfH9hg50Wkt"
      },
      "execution_count": 149,
      "outputs": []
    },
    {
      "cell_type": "code",
      "source": [
        "grouped = results_df.groupby(\"No_of_Observations\")"
      ],
      "metadata": {
        "id": "B-NRx1FPzqci"
      },
      "execution_count": 151,
      "outputs": []
    },
    {
      "cell_type": "code",
      "source": [
        "grouped_df = pd.DataFrame(grouped)"
      ],
      "metadata": {
        "id": "VzcbkTg11BCS"
      },
      "execution_count": 153,
      "outputs": []
    },
    {
      "cell_type": "code",
      "source": [
        "import seaborn as sns\n",
        "import matplotlib.pyplot as plt\n",
        "#creating both plots for  question 3.\n",
        "#Set plot style\n",
        "sns.set(style=\"whitegrid\")\n",
        "\n",
        "# Plot 1: Line plot of training time vs. # observations\n",
        "plt.figure(figsize=(10, 6))\n",
        "sns.lineplot(data=results_df, x=\"No_of_Observations\", y=\"time\")\n",
        "plt.title(\"Training Time vs. Dataset Size\")\n",
        "plt.ylabel(\"Training Time (seconds)\")\n",
        "plt.xlabel(\"Number of Observations\")\n",
        "plt.xlim(1000, 100000)\n",
        "plt.xticks([1000, 10000, 100000])\n",
        "plt.show()\n",
        "\n"
      ],
      "metadata": {
        "colab": {
          "base_uri": "https://localhost:8080/",
          "height": 573
        },
        "id": "W_5rKv-G12D7",
        "outputId": "4f2f7ae6-062d-4221-fe51-6b306d525713"
      },
      "execution_count": 166,
      "outputs": [
        {
          "output_type": "display_data",
          "data": {
            "text/plain": [
              "<Figure size 1000x600 with 1 Axes>"
            ],
            "image/png": "[encoded data removed]"
          },
          "metadata": {}
        }
      ]
    },
    {
      "cell_type": "code",
      "source": [
        "\n",
        "plt.figure()\n",
        "sns.lineplot(data=results_df, x=\"time\", y=\"Generalized_Set_20\")\n",
        "\n",
        "plt.title(\"Generalization vs. Time\")\n",
        "plt.xlabel(\"Training Time (seconds)\")\n",
        "plt.ylabel(\"Mean Squared Error (lower is better)\")\n",
        "plt.tight_layout()\n",
        "plt.show()\n"
      ],
      "metadata": {
        "colab": {
          "base_uri": "https://localhost:8080/",
          "height": 481
        },
        "id": "ehwJjSeo4-jY",
        "outputId": "cbebeaff-cda3-404a-d66e-0c2e18b341e2"
      },
      "execution_count": 170,
      "outputs": [
        {
          "output_type": "display_data",
          "data": {
            "text/plain": [
              "<Figure size 640x480 with 1 Axes>"
            ],
            "image/png": "[encoded data removed]"
          },
          "metadata": {}
        }
      ]
    }
  ]
}